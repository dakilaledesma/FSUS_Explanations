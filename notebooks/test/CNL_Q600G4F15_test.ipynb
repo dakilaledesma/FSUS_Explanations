{
  "cells": [
    {
      "cell_type": "markdown",
      "metadata": {
        "id": "view-in-github",
        "colab_type": "text"
      },
      "source": [
        "<a href=\"https://colab.research.google.com/github/dakilaledesma/FSUS_Explanations/blob/main/notebooks/test/CNL_Q600G4F15_test.ipynb\" target=\"_parent\"><img src=\"https://colab.research.google.com/assets/colab-badge.svg\" alt=\"Open In Colab\"/></a>"
      ]
    },
    {
      "cell_type": "code",
      "execution_count": 2,
      "metadata": {
        "colab": {
          "base_uri": "https://localhost:8080/"
        },
        "id": "4RBv2CGN3gJv",
        "outputId": "a8c85c92-f854-49cf-9de5-c82a7a13c666"
      },
      "outputs": [
        {
          "output_type": "stream",
          "name": "stdout",
          "text": [
            "CPU times: user 607 ms, sys: 117 ms, total: 723 ms\n",
            "Wall time: 1min 31s\n"
          ]
        }
      ],
      "source": [
        "%%time\n",
        "! unzip -q drive/MyDrive/UNC/S2022P/GBIF_Q_fourth15.zip -d /content/temp\n",
        "! mv /content/temp/content/dataset/test /content/test\n",
        "! mv /content/temp/content/dataset/annotations.txt /content/annotations.txt\n",
        "! rm -rf /content/temp"
      ]
    },
    {
      "cell_type": "code",
      "execution_count": 3,
      "metadata": {
        "colab": {
          "base_uri": "https://localhost:8080/"
        },
        "id": "xXOHMDgapMby",
        "outputId": "acf429b8-0eed-4e9c-848e-3072c67e5080"
      },
      "outputs": [
        {
          "output_type": "stream",
          "name": "stdout",
          "text": [
            "Cloning into 'pytorch-image-models'...\n",
            "remote: Enumerating objects: 10884, done.\u001b[K\n",
            "remote: Counting objects: 100% (411/411), done.\u001b[K\n",
            "remote: Compressing objects: 100% (205/205), done.\u001b[K\n",
            "remote: Total 10884 (delta 243), reused 300 (delta 197), pack-reused 10473\u001b[K\n",
            "Receiving objects: 100% (10884/10884), 20.51 MiB | 19.72 MiB/s, done.\n",
            "Resolving deltas: 100% (7958/7958), done.\n"
          ]
        }
      ],
      "source": [
        "! git clone https://github.com/rwightman/pytorch-image-models.git"
      ]
    },
    {
      "cell_type": "code",
      "execution_count": 13,
      "metadata": {
        "colab": {
          "base_uri": "https://localhost:8080/"
        },
        "id": "4kIBgHy6pSFD",
        "outputId": "9913ab6f-d629-404a-81e4-3deca10fb53e"
      },
      "outputs": [
        {
          "output_type": "stream",
          "name": "stdout",
          "text": [
            "Loaded state_dict from checkpoint '/content/drive/MyDrive/UNC/S2022P/output/20220822-234656-convnext_large_384_in22ft1k-600/last.pth.tar'\n",
            "Model convnext_large_384_in22ft1k created, param count: 196317945\n",
            "Predict: [0/539] Time 7.215 (7.215)\n",
            "Predict: [10/539] Time 1.368 (1.907)\n",
            "Predict: [20/539] Time 1.386 (1.657)\n",
            "Predict: [30/539] Time 1.405 (1.571)\n",
            "Predict: [40/539] Time 1.388 (1.527)\n",
            "Predict: [50/539] Time 1.381 (1.500)\n",
            "Predict: [60/539] Time 1.371 (1.481)\n",
            "Predict: [70/539] Time 1.393 (1.468)\n",
            "Predict: [80/539] Time 1.404 (1.458)\n",
            "Predict: [90/539] Time 1.387 (1.451)\n",
            "Predict: [100/539] Time 1.402 (1.446)\n",
            "Predict: [110/539] Time 1.378 (1.441)\n",
            "Predict: [120/539] Time 1.392 (1.437)\n",
            "Predict: [130/539] Time 1.381 (1.434)\n",
            "Predict: [140/539] Time 1.380 (1.433)\n",
            "Predict: [150/539] Time 1.380 (1.431)\n",
            "Predict: [160/539] Time 1.389 (1.430)\n",
            "Predict: [170/539] Time 1.407 (1.428)\n",
            "Predict: [180/539] Time 1.387 (1.426)\n",
            "Predict: [190/539] Time 1.383 (1.425)\n",
            "Predict: [200/539] Time 1.394 (1.423)\n",
            "Predict: [210/539] Time 1.391 (1.425)\n",
            "Predict: [220/539] Time 1.378 (1.424)\n",
            "Predict: [230/539] Time 1.402 (1.425)\n",
            "Predict: [240/539] Time 1.396 (1.423)\n",
            "Predict: [250/539] Time 1.409 (1.423)\n",
            "Predict: [260/539] Time 1.411 (1.422)\n",
            "Predict: [270/539] Time 1.387 (1.421)\n",
            "Predict: [280/539] Time 1.401 (1.421)\n",
            "Predict: [290/539] Time 1.463 (1.421)\n",
            "Predict: [300/539] Time 1.466 (1.420)\n",
            "Predict: [310/539] Time 1.389 (1.420)\n",
            "Predict: [320/539] Time 1.399 (1.420)\n",
            "Predict: [330/539] Time 1.375 (1.420)\n",
            "Predict: [340/539] Time 1.374 (1.419)\n",
            "Predict: [350/539] Time 1.413 (1.418)\n",
            "Predict: [360/539] Time 1.380 (1.418)\n",
            "Predict: [370/539] Time 1.385 (1.417)\n",
            "Predict: [380/539] Time 1.405 (1.416)\n",
            "Predict: [390/539] Time 1.405 (1.415)\n",
            "Predict: [400/539] Time 1.389 (1.415)\n",
            "Predict: [410/539] Time 1.384 (1.414)\n",
            "Predict: [420/539] Time 1.404 (1.414)\n",
            "Predict: [430/539] Time 1.395 (1.414)\n",
            "Predict: [440/539] Time 1.400 (1.413)\n",
            "Predict: [450/539] Time 1.493 (1.414)\n",
            "Predict: [460/539] Time 1.500 (1.414)\n",
            "Predict: [470/539] Time 1.424 (1.415)\n",
            "Predict: [480/539] Time 1.384 (1.414)\n",
            "Predict: [490/539] Time 1.396 (1.414)\n",
            "Predict: [500/539] Time 1.542 (1.415)\n",
            "Predict: [510/539] Time 1.544 (1.415)\n",
            "Predict: [520/539] Time 1.382 (1.415)\n",
            "Predict: [530/539] Time 1.470 (1.415)\n"
          ]
        }
      ],
      "source": [
        "! python -u ./pytorch-image-models/inference.py test -b 32 --input-size 3 600 600 --num-classes 57 --no-test-pool --checkpoint /content/drive/MyDrive/UNC/S2022P/output/20220822-234656-convnext_large_384_in22ft1k-600/last.pth.tar --model convnext_large_384_in22ft1k"
      ]
    },
    {
      "cell_type": "code",
      "source": [
        "from glob import glob\n",
        "import os\n",
        "from collections import defaultdict\n",
        "\n",
        "class_dict = {}\n",
        "for fn in glob(\"test/**/*.*\", recursive=True):\n",
        "  cat = int(fn.split(\"/\")[-2])\n",
        "  bn = os.path.basename(fn)\n",
        "\n",
        "  class_dict[bn] = cat"
      ],
      "metadata": {
        "id": "XxfKVLazeLuW"
      },
      "execution_count": 16,
      "outputs": []
    },
    {
      "cell_type": "code",
      "source": [
        "genera_dict = {}\n",
        "species_dict = {}\n",
        "anno_file = open(\"annotations.txt\")\n",
        "anno_lines = anno_file.readlines()\n",
        "\n",
        "for l in anno_lines:\n",
        "  l = l.strip().split(\",\")\n",
        "  cat, species, genus = l[0], l[1], l[1].split(\" \")[0]\n",
        "\n",
        "  genera_dict[int(cat)] = genus\n",
        "  species_dict[int(cat)] = species"
      ],
      "metadata": {
        "id": "uDHF6w9YQTjZ"
      },
      "execution_count": 17,
      "outputs": []
    },
    {
      "cell_type": "code",
      "source": [
        "print(genera_dict.items())"
      ],
      "metadata": {
        "colab": {
          "base_uri": "https://localhost:8080/"
        },
        "id": "GuZUSRrfQ0Ih",
        "outputId": "6ad81520-2e3f-43f4-c0b7-7243334550c7"
      },
      "execution_count": 18,
      "outputs": [
        {
          "output_type": "stream",
          "name": "stdout",
          "text": [
            "dict_items([(0, 'Quercus'), (1, 'Quercus'), (2, 'Quercus'), (3, 'Quercus'), (4, 'Quercus'), (5, 'Quercus'), (6, 'Quercus'), (7, 'Quercus'), (8, 'Quercus'), (9, 'Quercus'), (10, 'Quercus'), (11, 'Quercus'), (12, 'Quercus'), (13, 'Quercus'), (14, 'Quercus'), (15, 'Quercus'), (16, 'Quercus'), (17, 'Quercus'), (18, 'Quercus'), (19, 'Quercus'), (20, 'Quercus'), (21, 'Quercus'), (22, 'Quercus'), (23, 'Quercus'), (24, 'Quercus'), (25, 'Quercus'), (26, 'Quercus'), (27, 'Quercus'), (28, 'Quercus'), (29, 'Quercus'), (30, 'Quercus'), (31, 'Quercus'), (32, 'Quercus'), (33, 'Quercus'), (34, 'Quercus'), (35, 'Quercus'), (36, 'Quercus'), (37, 'Quercus'), (38, 'Quercus'), (39, 'Quercus'), (40, 'Quercus'), (41, 'Quercus'), (42, 'Quercus'), (43, 'Quercus'), (44, 'Quercus'), (45, 'Quercus'), (46, 'Quercus'), (47, 'Quercus'), (48, 'Quercus'), (49, 'Quercus'), (50, 'Quercus'), (51, 'Quercus'), (52, 'Quercus'), (53, 'Quercus'), (54, 'Quercus'), (55, 'Quercus'), (56, 'Quercus')])\n"
          ]
        }
      ]
    },
    {
      "cell_type": "code",
      "source": [
        "def get_acc():\n",
        "  output_file = open(\"topk_ids.csv\")\n",
        "  output_lines = output_file.readlines()\n",
        "\n",
        "  corr = 0\n",
        "  total = 0\n",
        "  for line in output_lines:\n",
        "    \n",
        "    line = line.strip().split(\",\")\n",
        "    cat = class_dict[line[0]]\n",
        "    pred = int(line[1])\n",
        "\n",
        "    if cat == pred:\n",
        "      corr += 1\n",
        "\n",
        "    total += 1\n",
        "\n",
        "  return corr / total\n",
        "\n",
        "def sum_wrong(results_list):\n",
        "  total = 0\n",
        "  for v in results_list:\n",
        "    if v == 0:\n",
        "      total += 1\n",
        "\n",
        "  return total\n",
        "\n",
        "\n",
        "def acc_stats():\n",
        "    species_wrong = defaultdict(list)\n",
        "    genera_wrong = defaultdict(list)\n",
        "    output_file = open(\"topk_ids.csv\")\n",
        "    output_lines = output_file.readlines()\n",
        "\n",
        "    corr = 0\n",
        "    total = 0\n",
        "    for line in output_lines:\n",
        "      line = line.strip().split(\",\")\n",
        "      cat = class_dict[line[0]]\n",
        "      gen = genera_dict[cat]\n",
        "      pred = int(line[1])\n",
        "\n",
        "      if cat == pred:\n",
        "        corr += 1\n",
        "        species_wrong[cat].append(1)\n",
        "        genera_wrong[gen].append(1)\n",
        "      else:\n",
        "        species_wrong[cat].append(0)\n",
        "        genera_wrong[gen].append(0)\n",
        "\n",
        "    species_wrong = {k: sum_wrong(v) / len(v) for k, v in sorted(species_wrong.items(), key=lambda item: sum_wrong(item[1]) / len(item[1]), reverse=True)}\n",
        "    genera_wrong = {k: sum_wrong(v) / len(v) for k, v in sorted(genera_wrong.items(), key=lambda item: sum_wrong(item[1]) / len(item[1]), reverse=True)}\n",
        "\n",
        "    print([(species_dict.get(v[0]), v[1]) for v in list(species_wrong.items())[:20]])\n",
        "    print(list(genera_wrong.items())[:20])\n",
        "\n",
        "\n",
        "\n",
        "def balanced_acc():\n",
        "    species_wrong = defaultdict(list)\n",
        "    genera_wrong = defaultdict(list)\n",
        "    output_file = open(\"topk_ids.csv\")\n",
        "    output_lines = output_file.readlines()\n",
        "\n",
        "    corr = 0\n",
        "    total = 0\n",
        "    for line in output_lines:\n",
        "      line = line.strip().split(\",\")\n",
        "      cat = class_dict[line[0]]\n",
        "      gen = genera_dict[cat]\n",
        "      pred = int(line[1])\n",
        "\n",
        "      if cat == pred:\n",
        "        corr += 1\n",
        "        species_wrong[cat].append(1)\n",
        "        genera_wrong[gen].append(1)\n",
        "      else:\n",
        "        species_wrong[cat].append(0)\n",
        "        genera_wrong[gen].append(0)\n",
        "\n",
        "    species_wrong = {k: v[:15] for k, v in list(species_wrong.items())}\n",
        "    out_lists = []\n",
        "    for v in species_wrong.values():\n",
        "      out_lists += v\n",
        "\n",
        "    print(sum(out_lists) / len(out_lists))"
      ],
      "metadata": {
        "id": "1A1y6atk6Gg1"
      },
      "execution_count": 24,
      "outputs": []
    },
    {
      "cell_type": "code",
      "source": [
        "# CNL Q600G4F15 Epoch 31/80\n",
        "print(get_acc())"
      ],
      "metadata": {
        "colab": {
          "base_uri": "https://localhost:8080/"
        },
        "id": "FKIDdkgMQwBL",
        "outputId": "537930b5-3107-43b8-b56e-ab0fc258d5a8"
      },
      "execution_count": 20,
      "outputs": [
        {
          "output_type": "stream",
          "name": "stdout",
          "text": [
            "0.8415065869653532\n"
          ]
        }
      ]
    },
    {
      "cell_type": "code",
      "source": [
        "acc_stats()"
      ],
      "metadata": {
        "id": "CrMbLVSyZlRe",
        "colab": {
          "base_uri": "https://localhost:8080/"
        },
        "outputId": "c1fa3951-0df4-4242-80c4-592af8bf8709"
      },
      "execution_count": 23,
      "outputs": [
        {
          "output_type": "stream",
          "name": "stdout",
          "text": [
            "[('Quercus buckleyi Nixon & Dorr', 1.0), ('Quercus robur subsp. brutia (Ten.) O.Schwarz', 1.0), ('Quercus shumardii var. shumardii', 1.0), ('Quercus macrocarpa var. depressa (Nutt.) Engelm.', 0.8333333333333334), ('Quercus acerifolia (E.J.Palmer) Stoynoff & Hess', 0.6), ('Quercus boyntonii Beadle', 0.6), ('Quercus robur subsp. imeretina (Steven ex Woronow) Menitsky', 0.6), ('Quercus fusiformis Small', 0.5581395348837209), ('Quercus shumardii var. schneckii (Britton) Sarg.', 0.5517241379310345), ('Quercus texana Buckley', 0.5338345864661654), ('Quercus robur subsp. pedunculiflora (K.Koch) Menitsky', 0.4878048780487805), ('Quercus hemisphaerica W.Bartram ex Willd.', 0.4583333333333333), ('Quercus similis Ashe', 0.45454545454545453), ('Quercus austrina Small', 0.3333333333333333), ('Quercus shumardii Buckley', 0.31952662721893493), ('Quercus coccinea MÃ¼nchh.', 0.3151183970856102), ('Quercus minima (Sarg.) Small', 0.3020833333333333), ('Quercus geminata Small', 0.2838709677419355), ('Quercus ellipsoidalis E.J.Hill', 0.27941176470588236), ('Quercus muehlenbergii Engelm.', 0.2755905511811024)]\n",
            "[('Quercus', 0.15849341303464687)]\n"
          ]
        }
      ]
    },
    {
      "cell_type": "code",
      "source": [
        "balanced_acc()"
      ],
      "metadata": {
        "id": "poJNVOloWgGE",
        "colab": {
          "base_uri": "https://localhost:8080/"
        },
        "outputId": "45883361-a7b7-467f-afc4-2a35d68ceae1"
      },
      "execution_count": 25,
      "outputs": [
        {
          "output_type": "stream",
          "name": "stdout",
          "text": [
            "0.7443037974683544\n"
          ]
        }
      ]
    },
    {
      "cell_type": "code",
      "source": [
        ""
      ],
      "metadata": {
        "id": "atY8U_K3_O32"
      },
      "execution_count": null,
      "outputs": []
    }
  ],
  "metadata": {
    "accelerator": "GPU",
    "colab": {
      "collapsed_sections": [],
      "name": "[FSUS] CNL-Q600G4F15-test",
      "provenance": [],
      "mount_file_id": "1lZtOBXeaLRxOv8_OS2FS5jQ5KD8YqQsh",
      "authorship_tag": "ABX9TyNQRzBTRcONX0rS37CdjO+B",
      "include_colab_link": true
    },
    "kernelspec": {
      "display_name": "Python 3",
      "name": "python3"
    },
    "language_info": {
      "name": "python"
    },
    "gpuClass": "standard"
  },
  "nbformat": 4,
  "nbformat_minor": 0
}