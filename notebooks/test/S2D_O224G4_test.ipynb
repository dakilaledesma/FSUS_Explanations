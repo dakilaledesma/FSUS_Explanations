{
  "cells": [
    {
      "cell_type": "markdown",
      "metadata": {
        "id": "view-in-github",
        "colab_type": "text"
      },
      "source": [
        "<a href=\"https://colab.research.google.com/github/dakilaledesma/FSUS_Explanations/blob/main/notebooks/test/S2D_O224G4_test.ipynb\" target=\"_parent\"><img src=\"https://colab.research.google.com/assets/colab-badge.svg\" alt=\"Open In Colab\"/></a>"
      ]
    },
    {
      "cell_type": "code",
      "execution_count": 1,
      "metadata": {
        "colab": {
          "base_uri": "https://localhost:8080/"
        },
        "id": "4RBv2CGN3gJv",
        "outputId": "7e5b6590-8554-454f-eae0-f4ddd17bdf0e"
      },
      "outputs": [
        {
          "output_type": "stream",
          "name": "stdout",
          "text": [
            "CPU times: user 33.6 ms, sys: 16.2 ms, total: 49.8 ms\n",
            "Wall time: 3.25 s\n"
          ]
        }
      ],
      "source": [
        "%%time\n",
        "! unzip -q drive/MyDrive/UNC/S2022P/GBIF_O_21_fourth.zip -d /content/temp\n",
        "! mv /content/temp/content/dataset/test /content/test\n",
        "! rm -rf /content/temp"
      ]
    },
    {
      "cell_type": "code",
      "execution_count": 2,
      "metadata": {
        "colab": {
          "base_uri": "https://localhost:8080/"
        },
        "id": "xXOHMDgapMby",
        "outputId": "b833c685-ee1a-45dc-fcb8-160bce867292"
      },
      "outputs": [
        {
          "output_type": "stream",
          "name": "stdout",
          "text": [
            "Cloning into 'pytorch-image-models'...\n",
            "remote: Enumerating objects: 10805, done.\u001b[K\n",
            "remote: Counting objects: 100% (332/332), done.\u001b[K\n",
            "remote: Compressing objects: 100% (169/169), done.\u001b[K\n",
            "remote: Total 10805 (delta 186), reused 245 (delta 154), pack-reused 10473\u001b[K\n",
            "Receiving objects: 100% (10805/10805), 20.45 MiB | 37.32 MiB/s, done.\n",
            "Resolving deltas: 100% (7898/7898), done.\n"
          ]
        }
      ],
      "source": [
        "! git clone https://github.com/rwightman/pytorch-image-models.git"
      ]
    },
    {
      "cell_type": "code",
      "execution_count": 3,
      "metadata": {
        "colab": {
          "base_uri": "https://localhost:8080/"
        },
        "id": "4kIBgHy6pSFD",
        "outputId": "62eddcde-b361-41ab-d6a7-c3813b708c12"
      },
      "outputs": [
        {
          "output_type": "stream",
          "name": "stdout",
          "text": [
            "Loaded state_dict from checkpoint '/content/drive/MyDrive/UNC/S2022P/output/20220816-154157-sequencer2d_l-224/last.pth.tar'\n",
            "Model sequencer2d_l created, param count: 53984441\n",
            "Predict: [0/7] Time 8.025 (8.025)\n"
          ]
        }
      ],
      "source": [
        "! python -u ./pytorch-image-models/inference.py test -b 128 --input-size 3 224 224 --num-classes 185 --no-test-pool --checkpoint /content/drive/MyDrive/UNC/S2022P/output/20220816-154157-sequencer2d_l-224/last.pth.tar --model sequencer2d_l"
      ]
    },
    {
      "cell_type": "code",
      "source": [
        "from glob import glob\n",
        "import os\n",
        "\n",
        "class_dict = {}\n",
        "for fn in glob(\"test/**/*.*\", recursive=True):\n",
        "  cat = int(fn.split(\"/\")[-2])\n",
        "  bn = os.path.basename(fn)\n",
        "\n",
        "  class_dict[bn] = cat"
      ],
      "metadata": {
        "id": "XxfKVLazeLuW"
      },
      "execution_count": 4,
      "outputs": []
    },
    {
      "cell_type": "code",
      "source": [
        "def get_acc():\n",
        "  output_file = open(\"topk_ids.csv\")\n",
        "  output_lines = output_file.readlines()\n",
        "\n",
        "  corr = 0\n",
        "  total = 0\n",
        "  for line in output_lines:\n",
        "    \n",
        "    line = line.strip().split(\",\")\n",
        "    cat = class_dict[line[0]]\n",
        "    pred = int(line[1])\n",
        "\n",
        "    if cat == pred:\n",
        "      corr += 1\n",
        "\n",
        "    total += 1\n",
        "\n",
        "  print(corr / total)"
      ],
      "metadata": {
        "id": "1A1y6atk6Gg1"
      },
      "execution_count": 6,
      "outputs": []
    },
    {
      "cell_type": "code",
      "source": [
        "# S2D O224G4 Epoch 9/80\n",
        "get_acc()"
      ],
      "metadata": {
        "colab": {
          "base_uri": "https://localhost:8080/"
        },
        "id": "FKIDdkgMQwBL",
        "outputId": "e1bb220f-5c84-4947-fdcc-ac5644b30ffb"
      },
      "execution_count": 7,
      "outputs": [
        {
          "output_type": "stream",
          "name": "stdout",
          "text": [
            "0.14149821640903687\n"
          ]
        }
      ]
    },
    {
      "cell_type": "code",
      "source": [
        ""
      ],
      "metadata": {
        "id": "CrMbLVSyZlRe"
      },
      "execution_count": null,
      "outputs": []
    }
  ],
  "metadata": {
    "accelerator": "GPU",
    "colab": {
      "collapsed_sections": [],
      "name": "[FSUS] S2D-O224G4-test",
      "provenance": [],
      "mount_file_id": "1Os9KNcYnRjg6V1EwdOxp4fLfpAaEjOKk",
      "authorship_tag": "ABX9TyOVyisYbdO7wzuF5GX7nP4Y",
      "include_colab_link": true
    },
    "kernelspec": {
      "display_name": "Python 3",
      "name": "python3"
    },
    "language_info": {
      "name": "python"
    },
    "gpuClass": "standard"
  },
  "nbformat": 4,
  "nbformat_minor": 0
}