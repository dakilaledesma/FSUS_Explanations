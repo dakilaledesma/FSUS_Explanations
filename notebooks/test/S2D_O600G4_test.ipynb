{
  "cells": [
    {
      "cell_type": "markdown",
      "metadata": {
        "id": "view-in-github",
        "colab_type": "text"
      },
      "source": [
        "<a href=\"https://colab.research.google.com/github/dakilaledesma/FSUS_Explanations/blob/main/notebooks/test/S2D_O600G4_test.ipynb\" target=\"_parent\"><img src=\"https://colab.research.google.com/assets/colab-badge.svg\" alt=\"Open In Colab\"/></a>"
      ]
    },
    {
      "cell_type": "code",
      "execution_count": null,
      "metadata": {
        "colab": {
          "base_uri": "https://localhost:8080/"
        },
        "id": "4RBv2CGN3gJv",
        "outputId": "4da6145c-8f36-442c-9ca4-407b3b9ab6ed"
      },
      "outputs": [
        {
          "output_type": "stream",
          "name": "stdout",
          "text": [
            "CPU times: user 49 ms, sys: 24.4 ms, total: 73.4 ms\n",
            "Wall time: 5.97 s\n"
          ]
        }
      ],
      "source": [
        "%%time\n",
        "! unzip -q drive/MyDrive/UNC/S2022P/GBIF_O_21_fourth.zip -d /content/temp\n",
        "! mv /content/temp/content/dataset/test /content/test\n",
        "! rm -rf /content/temp"
      ]
    },
    {
      "cell_type": "code",
      "execution_count": null,
      "metadata": {
        "colab": {
          "base_uri": "https://localhost:8080/"
        },
        "id": "xXOHMDgapMby",
        "outputId": "c372d0c9-3e52-4db9-dbe2-9ccfef21c6a5"
      },
      "outputs": [
        {
          "output_type": "stream",
          "name": "stdout",
          "text": [
            "Cloning into 'pytorch-image-models'...\n",
            "remote: Enumerating objects: 10805, done.\u001b[K\n",
            "remote: Counting objects: 100% (332/332), done.\u001b[K\n",
            "remote: Compressing objects: 100% (169/169), done.\u001b[K\n",
            "remote: Total 10805 (delta 186), reused 245 (delta 154), pack-reused 10473\u001b[K\n",
            "Receiving objects: 100% (10805/10805), 20.45 MiB | 20.57 MiB/s, done.\n",
            "Resolving deltas: 100% (7898/7898), done.\n"
          ]
        }
      ],
      "source": [
        "! git clone https://github.com/rwightman/pytorch-image-models.git"
      ]
    },
    {
      "cell_type": "code",
      "execution_count": null,
      "metadata": {
        "colab": {
          "base_uri": "https://localhost:8080/"
        },
        "id": "4kIBgHy6pSFD",
        "outputId": "058d7166-4df3-4666-a6c0-d98a984af827"
      },
      "outputs": [
        {
          "output_type": "stream",
          "name": "stdout",
          "text": [
            "Loaded state_dict from checkpoint '/content/drive/MyDrive/UNC/S2022P/output/20220816-163320-sequencer2d_l-600/last.pth.tar'\n",
            "Model sequencer2d_l created, param count: 53984441\n",
            "Predict: [0/7] Time 16.394 (16.394)\n"
          ]
        }
      ],
      "source": [
        "! python -u ./pytorch-image-models/inference.py test -b 128 --input-size 3 600 600 --num-classes 185 --no-test-pool --checkpoint /content/drive/MyDrive/UNC/S2022P/output/20220816-163320-sequencer2d_l-600/last.pth.tar --model sequencer2d_l"
      ]
    },
    {
      "cell_type": "code",
      "source": [
        "from glob import glob\n",
        "import os\n",
        "\n",
        "class_dict = {}\n",
        "for fn in glob(\"test/**/*.*\", recursive=True):\n",
        "  cat = int(fn.split(\"/\")[-2])\n",
        "  bn = os.path.basename(fn)\n",
        "\n",
        "  class_dict[bn] = cat"
      ],
      "metadata": {
        "id": "XxfKVLazeLuW"
      },
      "execution_count": null,
      "outputs": []
    },
    {
      "cell_type": "code",
      "source": [
        "def get_acc():\n",
        "  output_file = open(\"topk_ids.csv\")\n",
        "  output_lines = output_file.readlines()\n",
        "\n",
        "  corr = 0\n",
        "  total = 0\n",
        "  for line in output_lines:\n",
        "    \n",
        "    line = line.strip().split(\",\")\n",
        "    cat = class_dict[line[0]]\n",
        "    pred = int(line[1])\n",
        "\n",
        "    if cat == pred:\n",
        "      corr += 1\n",
        "\n",
        "    total += 1\n",
        "\n",
        "  print(corr / total)"
      ],
      "metadata": {
        "id": "1A1y6atk6Gg1"
      },
      "execution_count": null,
      "outputs": []
    },
    {
      "cell_type": "code",
      "source": [
        "# S2D O600G4 Epoch 80/80\n",
        "get_acc()"
      ],
      "metadata": {
        "colab": {
          "base_uri": "https://localhost:8080/"
        },
        "id": "FKIDdkgMQwBL",
        "outputId": "da1c9efa-53f5-4c7d-8e23-0a5a01715b88"
      },
      "execution_count": null,
      "outputs": [
        {
          "output_type": "stream",
          "name": "stdout",
          "text": [
            "0.6254458977407847\n"
          ]
        }
      ]
    },
    {
      "cell_type": "code",
      "source": [
        ""
      ],
      "metadata": {
        "id": "CrMbLVSyZlRe"
      },
      "execution_count": null,
      "outputs": []
    }
  ],
  "metadata": {
    "accelerator": "GPU",
    "colab": {
      "collapsed_sections": [],
      "name": "[FSUS] S2D-O600G4-test",
      "provenance": [],
      "mount_file_id": "1s6IK-Rrv0_kG6j5KDR0Bc0A9Irvcd80U",
      "authorship_tag": "ABX9TyNTKQHVQwoH4grjTDQNnOO3",
      "include_colab_link": true
    },
    "kernelspec": {
      "display_name": "Python 3",
      "name": "python3"
    },
    "language_info": {
      "name": "python"
    },
    "gpuClass": "standard"
  },
  "nbformat": 4,
  "nbformat_minor": 0
}