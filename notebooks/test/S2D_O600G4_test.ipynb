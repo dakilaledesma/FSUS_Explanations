{
  "cells": [
    {
      "cell_type": "markdown",
      "metadata": {
        "id": "view-in-github",
        "colab_type": "text"
      },
      "source": [
        "<a href=\"https://colab.research.google.com/github/dakilaledesma/FSUS_Explanations/blob/main/notebooks/test/S2D_O600G4_test.ipynb\" target=\"_parent\"><img src=\"https://colab.research.google.com/assets/colab-badge.svg\" alt=\"Open In Colab\"/></a>"
      ]
    },
    {
      "cell_type": "code",
      "execution_count": 3,
      "metadata": {
        "colab": {
          "base_uri": "https://localhost:8080/"
        },
        "id": "4RBv2CGN3gJv",
        "outputId": "5446e98e-e5ca-4a1b-fd34-56ce1c6693ce"
      },
      "outputs": [
        {
          "output_type": "stream",
          "name": "stdout",
          "text": [
            "CPU times: user 47.3 ms, sys: 24.9 ms, total: 72.3 ms\n",
            "Wall time: 5.87 s\n"
          ]
        }
      ],
      "source": [
        "%%time\n",
        "! unzip -q drive/MyDrive/UNC/S2022P/GBIF_O_21_fourth.zip -d /content/temp\n",
        "! mv /content/temp/content/dataset/test /content/test\n",
        "! rm -rf /content/temp"
      ]
    },
    {
      "cell_type": "code",
      "source": [
        "! cp drive/MyDrive/UNC/S2022P/annotations.txt /content/annotations.txt"
      ],
      "metadata": {
        "id": "VoujWEf6Pxc0"
      },
      "execution_count": 4,
      "outputs": []
    },
    {
      "cell_type": "code",
      "execution_count": 5,
      "metadata": {
        "colab": {
          "base_uri": "https://localhost:8080/"
        },
        "id": "xXOHMDgapMby",
        "outputId": "91121dab-9328-4373-9674-101f42810cf6"
      },
      "outputs": [
        {
          "output_type": "stream",
          "name": "stdout",
          "text": [
            "Cloning into 'pytorch-image-models'...\n",
            "remote: Enumerating objects: 10841, done.\u001b[K\n",
            "remote: Counting objects: 100% (368/368), done.\u001b[K\n",
            "remote: Compressing objects: 100% (199/199), done.\u001b[K\n",
            "remote: Total 10841 (delta 207), reused 264 (delta 160), pack-reused 10473\u001b[K\n",
            "Receiving objects: 100% (10841/10841), 20.49 MiB | 20.06 MiB/s, done.\n",
            "Resolving deltas: 100% (7922/7922), done.\n"
          ]
        }
      ],
      "source": [
        "! git clone https://github.com/rwightman/pytorch-image-models.git"
      ]
    },
    {
      "cell_type": "code",
      "execution_count": 6,
      "metadata": {
        "colab": {
          "base_uri": "https://localhost:8080/"
        },
        "id": "4kIBgHy6pSFD",
        "outputId": "6b9f6721-b503-4d3e-b7c1-7aedc15b78f6"
      },
      "outputs": [
        {
          "output_type": "stream",
          "name": "stdout",
          "text": [
            "Loaded state_dict from checkpoint '/content/drive/MyDrive/UNC/S2022P/output/20220816-163320-sequencer2d_l-600/last.pth.tar'\n",
            "Model sequencer2d_l created, param count: 53984441\n",
            "Predict: [0/7] Time 16.617 (16.617)\n"
          ]
        }
      ],
      "source": [
        "! python -u ./pytorch-image-models/inference.py test -b 128 --input-size 3 600 600 --num-classes 185 --no-test-pool --checkpoint /content/drive/MyDrive/UNC/S2022P/output/20220816-163320-sequencer2d_l-600/last.pth.tar --model sequencer2d_l"
      ]
    },
    {
      "cell_type": "code",
      "source": [
        "from glob import glob\n",
        "import os\n",
        "from collections import defaultdict\n",
        "\n",
        "class_dict = {}\n",
        "for fn in glob(\"test/**/*.*\", recursive=True):\n",
        "  cat = int(fn.split(\"/\")[-2])\n",
        "  bn = os.path.basename(fn)\n",
        "\n",
        "  class_dict[bn] = cat"
      ],
      "metadata": {
        "id": "XxfKVLazeLuW"
      },
      "execution_count": 7,
      "outputs": []
    },
    {
      "cell_type": "code",
      "source": [
        "genera_dict = {}\n",
        "species_dict = {}\n",
        "anno_file = open(\"annotations.txt\")\n",
        "anno_lines = anno_file.readlines()\n",
        "\n",
        "for l in anno_lines:\n",
        "  l = l.strip().split(\",\")\n",
        "  cat, species, genus = l[0], l[1], l[1].split(\" \")[0]\n",
        "\n",
        "  genera_dict[int(cat)] = genus\n",
        "  species_dict[int(cat)] = species"
      ],
      "metadata": {
        "id": "uDHF6w9YQTjZ"
      },
      "execution_count": 30,
      "outputs": []
    },
    {
      "cell_type": "code",
      "source": [
        "print(genera_dict.items())"
      ],
      "metadata": {
        "colab": {
          "base_uri": "https://localhost:8080/"
        },
        "id": "GuZUSRrfQ0Ih",
        "outputId": "2edd72b5-fc79-41d0-a9a4-c64487e168ce"
      },
      "execution_count": 9,
      "outputs": [
        {
          "output_type": "stream",
          "name": "stdout",
          "text": [
            "dict_items([(0, 'Aplectrum'), (1, 'Arethusa'), (2, 'Aspidogyne'), (3, 'Basiphyllaea'), (4, 'Beloglottis'), (5, 'Bletia'), (6, 'Bletia'), (7, 'Bletia'), (8, 'Bletilla'), (9, 'Brassia'), (10, 'Bulbophyllum'), (11, 'Calopogon'), (12, 'Calopogon'), (13, 'Calopogon'), (14, 'Calopogon'), (15, 'Calopogon'), (16, 'Calopogon'), (17, 'Calopogon'), (18, 'Campylocentrum'), (19, 'Cleistesiopsis'), (20, 'Cleistesiopsis'), (21, 'Cleistesiopsis'), (22, 'Corallorhiza'), (23, 'Corallorhiza'), (24, 'Corallorhiza'), (25, 'Corallorhiza'), (26, 'Corallorhiza'), (27, 'Corallorhiza'), (28, 'Corallorhiza'), (29, 'Cranichis'), (30, 'Cyclopogon'), (31, 'Cyclopogon'), (32, 'Cymbidium'), (33, 'Cypripedium'), (34, 'Cypripedium'), (35, 'Cypripedium'), (36, 'Cypripedium'), (37, 'Cypripedium'), (38, 'Cypripedium'), (39, 'Cypripedium'), (40, 'Cypripedium'), (41, 'Cyrtopodium'), (42, 'Cyrtopodium'), (43, 'Dactylorhiza'), (44, 'Dactylorhiza'), (45, 'Dactylorhiza'), (46, 'Dactylorhiza'), (47, 'Dendrophylax'), (48, 'Dendrophylax'), (49, 'Eltroplectris'), (50, 'Encyclia'), (51, 'Encyclia'), (52, 'Epidendrum'), (53, 'Epidendrum'), (54, 'Epidendrum'), (55, 'Epidendrum'), (56, 'Epidendrum'), (57, 'Epidendrum'), (58, 'Epidendrum'), (59, 'Epipactis'), (60, 'Epipactis'), (61, 'Epipactis'), (62, 'Epipactis'), (63, 'Epipactis'), (64, 'Epipactis'), (65, 'Eulophia'), (66, 'Eulophia'), (67, 'Eulophia'), (68, 'Galearis'), (69, 'Goodyera'), (70, 'Goodyera'), (71, 'Goodyera'), (72, 'Habenaria'), (73, 'Habenaria'), (74, 'Habenaria'), (75, 'Habenaria'), (76, 'Habenaria'), (77, 'Habenaria'), (78, 'Habenaria'), (79, 'Hexalectris'), (80, 'Hexalectris'), (81, 'Hexalectris'), (82, 'Ionopsis'), (83, 'Isotria'), (84, 'Isotria'), (85, 'Laelia'), (86, 'Lepanthopsis'), (87, 'Liparis'), (88, 'Liparis'), (89, 'Liparis'), (90, 'Macradenia'), (91, 'Malaxis'), (92, 'Malaxis'), (93, 'Malaxis'), (94, 'Malaxis'), (95, 'Maxillaria'), (96, 'Maxillaria'), (97, 'Mesadenus'), (98, 'Neottia'), (99, 'Neottia'), (100, 'Neottia'), (101, 'Oeceoclades'), (102, 'Pelexia'), (103, 'Phaius'), (104, 'Platanthera'), (105, 'Platanthera'), (106, 'Platanthera'), (107, 'Platanthera'), (108, 'Platanthera'), (109, 'Platanthera'), (110, 'Platanthera'), (111, 'Platanthera'), (112, 'Platanthera'), (113, 'Platanthera'), (114, 'Platanthera'), (115, 'Platanthera'), (116, 'Platanthera'), (117, 'Platanthera'), (118, 'Platanthera'), (119, 'Platanthera'), (120, 'Platanthera'), (121, 'Platanthera'), (122, 'Platanthera'), (123, 'Platanthera'), (124, 'Platanthera'), (125, 'Platanthera'), (126, 'Platanthera'), (127, 'Platanthera'), (128, 'Platanthera'), (129, 'Platanthera'), (130, 'Platanthera'), (131, 'Platanthera'), (132, 'Pogonia'), (133, 'Polystachya'), (134, 'Ponthieva'), (135, 'Prosthechea'), (136, 'Prosthechea'), (137, 'Restrepiella'), (138, 'Sacoila'), (139, 'Sacoila'), (140, 'Spathoglottis'), (141, 'Spiranthes'), (142, 'Spiranthes'), (143, 'Spiranthes'), (144, 'Spiranthes'), (145, 'Spiranthes'), (146, 'Spiranthes'), (147, 'Spiranthes'), (148, 'Spiranthes'), (149, 'Spiranthes'), (150, 'Spiranthes'), (151, 'Spiranthes'), (152, 'Spiranthes'), (153, 'Spiranthes'), (154, 'Spiranthes'), (155, 'Spiranthes'), (156, 'Spiranthes'), (157, 'Spiranthes'), (158, 'Spiranthes'), (159, 'Spiranthes'), (160, 'Spiranthes'), (161, 'Spiranthes'), (162, 'Spiranthes'), (163, 'Spiranthes'), (164, 'Spiranthes'), (165, 'Spiranthes'), (166, 'Spiranthes'), (167, 'Stelis'), (168, 'Tetramicra'), (169, 'Tipularia'), (170, 'Tolumnia'), (171, 'Trichocentrum'), (172, 'Trichocentrum'), (173, 'Triphora'), (174, 'Triphora'), (175, 'Triphora'), (176, 'Triphora'), (177, 'Triphora'), (178, 'Triphora'), (179, 'Tropidia'), (180, 'Vanilla'), (181, 'Vanilla'), (182, 'Vanilla'), (183, 'Vanilla'), (184, 'Zeuxine')])\n"
          ]
        }
      ]
    },
    {
      "cell_type": "code",
      "source": [
        "def get_acc():\n",
        "  output_file = open(\"topk_ids.csv\")\n",
        "  output_lines = output_file.readlines()\n",
        "\n",
        "  corr = 0\n",
        "  total = 0\n",
        "  for line in output_lines:\n",
        "    \n",
        "    line = line.strip().split(\",\")\n",
        "    cat = class_dict[line[0]]\n",
        "    pred = int(line[1])\n",
        "\n",
        "    if cat == pred:\n",
        "      corr += 1\n",
        "\n",
        "    total += 1\n",
        "\n",
        "  return corr / total\n",
        "\n",
        "def sum_wrong(results_list):\n",
        "  total = 0\n",
        "  for v in results_list:\n",
        "    if v == 0:\n",
        "      total += 1\n",
        "\n",
        "  return total\n",
        "\n",
        "def acc_stats():\n",
        "    species_wrong = defaultdict(list)\n",
        "    genera_wrong = defaultdict(list)\n",
        "    output_file = open(\"topk_ids.csv\")\n",
        "    output_lines = output_file.readlines()\n",
        "\n",
        "    corr = 0\n",
        "    total = 0\n",
        "    for line in output_lines:\n",
        "      line = line.strip().split(\",\")\n",
        "      cat = class_dict[line[0]]\n",
        "      gen = genera_dict[cat]\n",
        "      pred = int(line[1])\n",
        "\n",
        "      if cat == pred:\n",
        "        corr += 1\n",
        "        species_wrong[cat].append(1)\n",
        "        genera_wrong[gen].append(1)\n",
        "      else:\n",
        "        species_wrong[cat].append(0)\n",
        "        genera_wrong[gen].append(0)\n",
        "\n",
        "    species_wrong = {k: sum_wrong(v) / len(v) for k, v in sorted(species_wrong.items(), key=lambda item: sum_wrong(item[1]) / len(item[1]), reverse=True)}\n",
        "    genera_wrong = {k: sum_wrong(v) / len(v) for k, v in sorted(genera_wrong.items(), key=lambda item: sum_wrong(item[1]) / len(item[1]), reverse=True)}\n",
        "\n",
        "    print([(species_dict.get(v[0]), v[1]) for v in list(species_wrong.items())[:20]])\n",
        "    print(list(genera_wrong.items())[:5])"
      ],
      "metadata": {
        "id": "1A1y6atk6Gg1"
      },
      "execution_count": 31,
      "outputs": []
    },
    {
      "cell_type": "code",
      "source": [
        "# S2D O600G4 Epoch 80/80\n",
        "print(get_acc())"
      ],
      "metadata": {
        "colab": {
          "base_uri": "https://localhost:8080/"
        },
        "id": "FKIDdkgMQwBL",
        "outputId": "65129eb6-56eb-49d0-c9b2-bc5f64ebb00c"
      },
      "execution_count": 32,
      "outputs": [
        {
          "output_type": "stream",
          "name": "stdout",
          "text": [
            "0.6254458977407847\n"
          ]
        }
      ]
    },
    {
      "cell_type": "code",
      "source": [
        "acc_stats()"
      ],
      "metadata": {
        "id": "CrMbLVSyZlRe",
        "colab": {
          "base_uri": "https://localhost:8080/"
        },
        "outputId": "a624e80b-8806-4ea9-8a31-aa8efcebc184"
      },
      "execution_count": 33,
      "outputs": [
        {
          "output_type": "stream",
          "name": "stdout",
          "text": [
            "[('Bletia florida (Salisb.) R.Br.', 1.0), ('Corallorhiza maculata var. maculata', 1.0), ('Maxillaria crassifolia (Lindl.) Rchb.f.', 1.0), ('Platanthera cristata (Michx.) Lindl.', 1.0), ('Platanthera orbiculata var. orbiculata', 1.0), ('Prosthechea boothiana (Lindl.) W.E.Higgins', 1.0), ('Spiranthes brevilabris var. floridana (Wherry) Luer', 1.0), ('Spiranthes igniorchis M.C.Pace', 1.0), ('Spiranthes ovalis Lindl.', 1.0), ('Spiranthes Ã\\x97kapnosperia M.C.Pace', 1.0), ('Triphora yucatanensis Ames', 1.0), ('Calopogon tuberosus var. tuberosus', 0.8), ('Corallorhiza maculata Raf.', 0.8), ('Corallorhiza odontorhiza (Willd.) Nutt.', 0.8), ('Cypripedium parviflorum var. pubescens (Willd.) O.W.Knight', 0.8), ('Epipactis helleborine subsp. helleborine', 0.8), ('Ionopsis utricularioides (Sw.) Lindl.', 0.8), ('Platanthera aquilonis Sheviak', 0.8), ('Platanthera blephariglottis (Willd.) Lindl.', 0.8), ('Platanthera ciliaris (L.) Lindl.', 0.8)]\n",
            "[('Ionopsis', 0.8), ('Maxillaria', 0.75), ('Triphora', 0.7), ('Bletia', 0.6363636363636364), ('Corallorhiza', 0.6)]\n"
          ]
        }
      ]
    },
    {
      "cell_type": "code",
      "source": [
        ""
      ],
      "metadata": {
        "id": "poJNVOloWgGE"
      },
      "execution_count": null,
      "outputs": []
    }
  ],
  "metadata": {
    "accelerator": "GPU",
    "colab": {
      "collapsed_sections": [],
      "name": "[FSUS] S2D-O600G4-test",
      "provenance": [],
      "mount_file_id": "1s6IK-Rrv0_kG6j5KDR0Bc0A9Irvcd80U",
      "authorship_tag": "ABX9TyNHIJ9YKieX1s3XudKZdg3V",
      "include_colab_link": true
    },
    "kernelspec": {
      "display_name": "Python 3",
      "name": "python3"
    },
    "language_info": {
      "name": "python"
    },
    "gpuClass": "standard"
  },
  "nbformat": 4,
  "nbformat_minor": 0
}