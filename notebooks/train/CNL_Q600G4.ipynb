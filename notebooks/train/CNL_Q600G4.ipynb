{
  "cells": [
    {
      "cell_type": "markdown",
      "metadata": {
        "id": "view-in-github",
        "colab_type": "text"
      },
      "source": [
        "<a href=\"https://colab.research.google.com/github/dakilaledesma/FSUS_Explanations/blob/main/notebooks/train/CNL_Q600G4.ipynb\" target=\"_parent\"><img src=\"https://colab.research.google.com/assets/colab-badge.svg\" alt=\"Open In Colab\"/></a>"
      ]
    },
    {
      "cell_type": "code",
      "execution_count": 1,
      "metadata": {
        "colab": {
          "base_uri": "https://localhost:8080/"
        },
        "id": "4RBv2CGN3gJv",
        "outputId": "d97c5de7-5956-4fdb-ae9c-b1c3c69c5713"
      },
      "outputs": [
        {
          "output_type": "stream",
          "name": "stdout",
          "text": [
            "CPU times: user 41.4 ms, sys: 25.7 ms, total: 67.1 ms\n",
            "Wall time: 4.6 s\n"
          ]
        }
      ],
      "source": [
        "%%time\n",
        "! unzip -q drive/MyDrive/UNC/S2022P/GBIF_Q_20_fourth.zip -d /content/temp\n",
        "! mv /content/temp/content/dataset/train /content/train\n",
        "! rm -rf /content/temp"
      ]
    },
    {
      "cell_type": "code",
      "execution_count": 2,
      "metadata": {
        "colab": {
          "base_uri": "https://localhost:8080/"
        },
        "id": "xXOHMDgapMby",
        "outputId": "b9ea5083-2f88-4aa7-e441-f9efb0002d09"
      },
      "outputs": [
        {
          "output_type": "stream",
          "name": "stdout",
          "text": [
            "Cloning into 'pytorch-image-models'...\n",
            "remote: Enumerating objects: 10841, done.\u001b[K\n",
            "remote: Counting objects: 100% (368/368), done.\u001b[K\n",
            "remote: Compressing objects: 100% (198/198), done.\u001b[K\n",
            "remote: Total 10841 (delta 207), reused 264 (delta 161), pack-reused 10473\u001b[K\n",
            "Receiving objects: 100% (10841/10841), 20.48 MiB | 19.72 MiB/s, done.\n",
            "Resolving deltas: 100% (7919/7919), done.\n"
          ]
        }
      ],
      "source": [
        "! git clone https://github.com/rwightman/pytorch-image-models.git"
      ]
    },
    {
      "cell_type": "code",
      "execution_count": 3,
      "metadata": {
        "id": "slckThLBilky"
      },
      "outputs": [],
      "source": [
        "import fileinput\n",
        "import sys\n",
        "\n",
        "def replacement(file, previousw, nextw):\n",
        "   for line in fileinput.input(file, inplace=1):\n",
        "       line = line.replace(previousw, nextw)\n",
        "       sys.stdout.write(line)\n",
        "\n",
        "file = \"/content/pytorch-image-models/timm/utils/checkpoint_saver.py\"\n",
        "replacement(file, \"if os.path.exists(last_save_path):\", \"# if os.path.exists(last_save_path):\")\n",
        "replacement(file, \"os.unlink(last_save_path)  # required for Windows support.\", \"# os.unlink(last_save_path)  # required for Windows support.\")\n",
        "replacement(file, \"os.link(last_save_path, save_path)\", \"# os.link(last_save_path, save_path)\")\n",
        "replacement(file, \"os.unlink(best_save_path)\", \"# os.unlink(best_save_path)\")\n",
        "replacement(file, \"os.link(last_save_path, best_save_path)\", \"# os.link(last_save_path, best_save_path)\")\n",
        "replacement(file, \"if os.path.exists(best_save_path):\", \"# if os.path.exists(best_save_path):\")\n"
      ]
    },
    {
      "cell_type": "code",
      "execution_count": 4,
      "metadata": {
        "colab": {
          "base_uri": "https://localhost:8080/"
        },
        "id": "i2bjHJwMfqlJ",
        "outputId": "1990de02-a164-4be7-9646-265c8f20b686"
      },
      "outputs": [
        {
          "output_type": "stream",
          "name": "stdout",
          "text": [
            "60\n"
          ]
        }
      ],
      "source": [
        "from glob import glob\n",
        "\n",
        "print(len(list(glob(\"train/*\"))))"
      ]
    },
    {
      "cell_type": "code",
      "execution_count": null,
      "metadata": {
        "colab": {
          "base_uri": "https://localhost:8080/"
        },
        "id": "4kIBgHy6pSFD",
        "outputId": "9852857e-9bd1-4803-c006-8f04c3566c51"
      },
      "outputs": [
        {
          "output_type": "stream",
          "name": "stdout",
          "text": [
            "/usr/local/lib/python3.7/dist-packages/torch/distributed/launch.py:186: FutureWarning: The module torch.distributed.launch is deprecated\n",
            "and will be removed in future. Use torchrun.\n",
            "Note that --use_env is set by default in torchrun.\n",
            "If your script expects `--local_rank` argument to be set, please\n",
            "change it to read from `os.environ['LOCAL_RANK']` instead. See \n",
            "https://pytorch.org/docs/stable/distributed.html#launch-utility for \n",
            "further instructions\n",
            "\n",
            "  FutureWarning,\n",
            "Training with a single process on 1 GPUs.\n",
            "Loading pretrained weights from url (https://dl.fbaipublicfiles.com/convnext/convnext_large_22k_1k_384.pth)\n",
            "Model convnext_large_384_in22ft1k created, param count:196322556\n",
            "Data processing configuration for current model + dataset:\n",
            "\tinput_size: (3, 600, 600)\n",
            "\tinterpolation: bicubic\n",
            "\tmean: (0.485, 0.456, 0.406)\n",
            "\tstd: (0.229, 0.224, 0.225)\n",
            "\tcrop_pct: 1.0\n",
            "Using native Torch AMP. Training in mixed precision.\n",
            "Scheduled epochs: 80\n",
            "/usr/local/lib/python3.7/dist-packages/torch/utils/data/dataloader.py:566: UserWarning: This DataLoader will create 4 worker processes in total. Our suggested max number of worker in current system is 2, which is smaller than what this DataLoader is going to create. Please be aware that excessive worker creation might get DataLoader running slow or even freeze, lower the worker number to avoid potential slowness/freeze if necessary.\n",
            "  cpuset_checked))\n",
            "Train: 0 [   0/225 (  0%)]  Loss: 4.748 (4.75)  Time: 8.350s,    0.96/s  (8.350s,    0.96/s)  LR: 1.000e-04  Data: 2.315 (2.315)\n",
            "Train: 0 [  50/225 ( 22%)]  Loss: 4.576 (4.19)  Time: 0.481s,   16.63/s  (0.693s,   11.54/s)  LR: 1.000e-04  Data: 0.014 (0.105)\n",
            "Train: 0 [ 100/225 ( 45%)]  Loss: 2.849 (4.01)  Time: 0.607s,   13.18/s  (0.657s,   12.17/s)  LR: 1.000e-04  Data: 0.015 (0.103)\n",
            "Train: 0 [ 150/225 ( 67%)]  Loss: 3.212 (3.86)  Time: 0.473s,   16.92/s  (0.631s,   12.67/s)  LR: 1.000e-04  Data: 0.016 (0.100)\n",
            "Train: 0 [ 200/225 ( 89%)]  Loss: 2.967 (3.72)  Time: 0.590s,   13.56/s  (0.622s,   12.86/s)  LR: 1.000e-04  Data: 0.021 (0.103)\n",
            "Train: 0 [ 224/225 (100%)]  Loss: 2.762 (3.67)  Time: 0.361s,   22.14/s  (0.613s,   13.06/s)  LR: 1.000e-04  Data: 0.000 (0.101)\n",
            "Test: [   0/224]  Time: 1.294 (1.294)  Loss:  2.9375 (2.9375)  Acc@1: 25.0000 (25.0000)  Acc@5: 25.0000 (25.0000)\n",
            "Test: [  50/224]  Time: 0.256 (0.165)  Loss:  3.9141 (2.5952)  Acc@1:  0.0000 (30.8824)  Acc@5:  0.0000 (67.1569)\n",
            "Test: [ 100/224]  Time: 0.089 (0.158)  Loss:  3.0391 (2.6078)  Acc@1:  0.0000 (28.9604)  Acc@5: 50.0000 (66.0891)\n",
            "Test: [ 150/224]  Time: 0.333 (0.155)  Loss:  3.3164 (2.4939)  Acc@1:  0.0000 (31.2914)  Acc@5: 50.0000 (70.3642)\n",
            "Test: [ 200/224]  Time: 0.100 (0.153)  Loss:  2.8926 (2.4816)  Acc@1:  0.0000 (29.3532)  Acc@5: 75.0000 (70.7711)\n",
            "Test: [ 224/224]  Time: 0.063 (0.150)  Loss:  3.0547 (2.5515)  Acc@1:  0.0000 (27.5556)  Acc@5: 25.0000 (67.6667)\n",
            "Current checkpoints:\n",
            " ('drive/MyDrive/UNC/S2022P/output/20220818-180344-convnext_large_384_in22ft1k-600/checkpoint-0.pth.tar', 27.555555555555557)\n",
            "\n",
            "Train: 1 [   0/225 (  0%)]  Loss: 2.639 (2.64)  Time: 3.112s,    2.57/s  (3.112s,    2.57/s)  LR: 8.333e-05  Data: 1.972 (1.972)\n",
            "Train: 1 [  50/225 ( 22%)]  Loss: 2.145 (2.93)  Time: 0.672s,   11.91/s  (0.829s,    9.65/s)  LR: 8.333e-05  Data: 0.014 (0.144)\n",
            "Train: 1 [ 100/225 ( 45%)]  Loss: 3.020 (2.82)  Time: 0.511s,   15.65/s  (0.714s,   11.21/s)  LR: 8.333e-05  Data: 0.009 (0.129)\n",
            "Train: 1 [ 150/225 ( 67%)]  Loss: 2.175 (2.77)  Time: 0.511s,   15.66/s  (0.663s,   12.06/s)  LR: 8.333e-05  Data: 0.009 (0.114)\n",
            "Train: 1 [ 200/225 ( 89%)]  Loss: 2.246 (2.78)  Time: 0.471s,   16.99/s  (0.645s,   12.41/s)  LR: 8.333e-05  Data: 0.015 (0.116)\n",
            "Train: 1 [ 224/225 (100%)]  Loss: 2.502 (2.75)  Time: 0.356s,   22.44/s  (0.630s,   12.69/s)  LR: 8.333e-05  Data: 0.000 (0.111)\n",
            "Test: [   0/224]  Time: 1.111 (1.111)  Loss:  2.5176 (2.5176)  Acc@1: 25.0000 (25.0000)  Acc@5: 50.0000 (50.0000)\n",
            "Test: [  50/224]  Time: 0.090 (0.199)  Loss:  0.8979 (1.7892)  Acc@1: 100.0000 (48.0392)  Acc@5: 100.0000 (85.2941)\n",
            "Test: [ 100/224]  Time: 0.111 (0.172)  Loss:  1.7549 (1.5784)  Acc@1: 50.0000 (56.1881)  Acc@5: 100.0000 (89.1089)\n",
            "Test: [ 150/224]  Time: 0.293 (0.163)  Loss:  2.8301 (1.6148)  Acc@1:  0.0000 (53.3113)  Acc@5: 50.0000 (87.2517)\n",
            "Test: [ 200/224]  Time: 0.085 (0.157)  Loss:  3.5078 (1.7806)  Acc@1: 25.0000 (46.8905)  Acc@5: 50.0000 (83.4577)\n",
            "Test: [ 224/224]  Time: 0.063 (0.154)  Loss:  2.1582 (1.7556)  Acc@1: 25.0000 (48.6667)  Acc@5: 75.0000 (83.8889)\n",
            "Current checkpoints:\n",
            " ('drive/MyDrive/UNC/S2022P/output/20220818-180344-convnext_large_384_in22ft1k-600/checkpoint-1.pth.tar', 48.666666666666664)\n",
            " ('drive/MyDrive/UNC/S2022P/output/20220818-180344-convnext_large_384_in22ft1k-600/checkpoint-0.pth.tar', 27.555555555555557)\n",
            "\n",
            "Train: 2 [   0/225 (  0%)]  Loss: 2.997 (3.00)  Time: 2.472s,    3.24/s  (2.472s,    3.24/s)  LR: 6.667e-05  Data: 1.885 (1.885)\n",
            "Train: 2 [  50/225 ( 22%)]  Loss: 2.997 (2.31)  Time: 0.533s,   15.00/s  (0.969s,    8.26/s)  LR: 6.667e-05  Data: 0.007 (0.142)\n",
            "Train: 2 [ 100/225 ( 45%)]  Loss: 1.851 (2.21)  Time: 0.539s,   14.85/s  (0.823s,    9.72/s)  LR: 6.667e-05  Data: 0.011 (0.133)\n",
            "Train: 2 [ 150/225 ( 67%)]  Loss: 1.763 (2.22)  Time: 0.464s,   17.24/s  (0.752s,   10.64/s)  LR: 6.667e-05  Data: 0.031 (0.126)\n",
            "Train: 2 [ 200/225 ( 89%)]  Loss: 2.989 (2.21)  Time: 0.500s,   16.00/s  (0.706s,   11.33/s)  LR: 6.667e-05  Data: 0.014 (0.118)\n",
            "Train: 2 [ 224/225 (100%)]  Loss: 1.730 (2.20)  Time: 0.356s,   22.48/s  (0.686s,   11.66/s)  LR: 6.667e-05  Data: 0.001 (0.112)\n",
            "Test: [   0/224]  Time: 1.116 (1.116)  Loss:  1.3984 (1.3984)  Acc@1: 75.0000 (75.0000)  Acc@5: 100.0000 (100.0000)\n",
            "Test: [  50/224]  Time: 0.090 (0.154)  Loss:  0.6787 (1.1414)  Acc@1: 100.0000 (69.6078)  Acc@5: 100.0000 (94.1176)\n",
            "Test: [ 100/224]  Time: 0.244 (0.151)  Loss:  1.5947 (0.9944)  Acc@1: 50.0000 (74.2574)  Acc@5: 75.0000 (95.7921)\n",
            "Test: [ 150/224]  Time: 0.336 (0.150)  Loss:  2.0117 (0.9117)  Acc@1: 25.0000 (78.1457)  Acc@5: 75.0000 (96.6887)\n",
            "Test: [ 200/224]  Time: 0.069 (0.148)  Loss:  1.8682 (1.0068)  Acc@1: 50.0000 (75.0000)  Acc@5: 100.0000 (96.5174)\n",
            "Test: [ 224/224]  Time: 0.063 (0.146)  Loss:  1.1865 (1.0577)  Acc@1: 100.0000 (72.4444)  Acc@5: 100.0000 (96.2222)\n",
            "Current checkpoints:\n",
            " ('drive/MyDrive/UNC/S2022P/output/20220818-180344-convnext_large_384_in22ft1k-600/checkpoint-2.pth.tar', 72.44444444444444)\n",
            " ('drive/MyDrive/UNC/S2022P/output/20220818-180344-convnext_large_384_in22ft1k-600/checkpoint-1.pth.tar', 48.666666666666664)\n",
            " ('drive/MyDrive/UNC/S2022P/output/20220818-180344-convnext_large_384_in22ft1k-600/checkpoint-0.pth.tar', 27.555555555555557)\n",
            "\n",
            "Train: 3 [   0/225 (  0%)]  Loss: 2.249 (2.25)  Time: 2.767s,    2.89/s  (2.767s,    2.89/s)  LR: 4.983e-05  Data: 2.102 (2.102)\n",
            "Train: 3 [  50/225 ( 22%)]  Loss: 1.799 (1.81)  Time: 1.274s,    6.28/s  (1.008s,    7.93/s)  LR: 4.983e-05  Data: 0.497 (0.180)\n",
            "Train: 3 [ 100/225 ( 45%)]  Loss: 1.588 (1.83)  Time: 0.695s,   11.51/s  (0.839s,    9.54/s)  LR: 4.983e-05  Data: 0.019 (0.141)\n",
            "Train: 3 [ 150/225 ( 67%)]  Loss: 1.587 (1.83)  Time: 0.468s,   17.10/s  (0.758s,   10.56/s)  LR: 4.983e-05  Data: 0.007 (0.125)\n",
            "Train: 3 [ 200/225 ( 89%)]  Loss: 1.454 (1.79)  Time: 0.515s,   15.53/s  (0.712s,   11.23/s)  LR: 4.983e-05  Data: 0.011 (0.122)\n",
            "Train: 3 [ 224/225 (100%)]  Loss: 1.727 (1.78)  Time: 0.359s,   22.26/s  (0.691s,   11.58/s)  LR: 4.983e-05  Data: 0.000 (0.115)\n",
            "Test: [   0/224]  Time: 1.089 (1.089)  Loss:  0.1786 (0.1786)  Acc@1: 100.0000 (100.0000)  Acc@5: 100.0000 (100.0000)\n",
            "Test: [  50/224]  Time: 0.095 (0.158)  Loss:  0.0969 (0.6274)  Acc@1: 100.0000 (84.8039)  Acc@5: 100.0000 (98.0392)\n",
            "Test: [ 100/224]  Time: 0.087 (0.154)  Loss:  0.6611 (0.5610)  Acc@1: 100.0000 (87.3762)  Acc@5: 100.0000 (99.0099)\n",
            "Test: [ 150/224]  Time: 0.125 (0.150)  Loss:  0.7334 (0.5609)  Acc@1: 100.0000 (87.0861)  Acc@5: 100.0000 (99.1722)\n",
            "Test: [ 200/224]  Time: 0.079 (0.149)  Loss:  0.5229 (0.6371)  Acc@1: 75.0000 (84.3284)  Acc@5: 100.0000 (99.1294)\n",
            "Test: [ 224/224]  Time: 0.063 (0.147)  Loss:  0.8857 (0.6479)  Acc@1: 100.0000 (84.4444)  Acc@5: 100.0000 (99.2222)\n",
            "Current checkpoints:\n",
            " ('drive/MyDrive/UNC/S2022P/output/20220818-180344-convnext_large_384_in22ft1k-600/checkpoint-3.pth.tar', 84.44444444444444)\n",
            " ('drive/MyDrive/UNC/S2022P/output/20220818-180344-convnext_large_384_in22ft1k-600/checkpoint-2.pth.tar', 72.44444444444444)\n",
            " ('drive/MyDrive/UNC/S2022P/output/20220818-180344-convnext_large_384_in22ft1k-600/checkpoint-1.pth.tar', 48.666666666666664)\n",
            " ('drive/MyDrive/UNC/S2022P/output/20220818-180344-convnext_large_384_in22ft1k-600/checkpoint-0.pth.tar', 27.555555555555557)\n",
            "\n",
            "Train: 4 [   0/225 (  0%)]  Loss: 2.273 (2.27)  Time: 2.459s,    3.25/s  (2.459s,    3.25/s)  LR: 4.970e-05  Data: 1.842 (1.842)\n",
            "Train: 4 [  50/225 ( 22%)]  Loss: 2.132 (1.52)  Time: 0.818s,    9.78/s  (1.012s,    7.91/s)  LR: 4.970e-05  Data: 0.008 (0.211)\n",
            "Train: 4 [ 100/225 ( 45%)]  Loss: 1.080 (1.54)  Time: 0.541s,   14.78/s  (0.840s,    9.53/s)  LR: 4.970e-05  Data: 0.018 (0.148)\n",
            "Train: 4 [ 150/225 ( 67%)]  Loss: 0.8363 (1.53)  Time: 0.835s,    9.58/s  (0.769s,   10.41/s)  LR: 4.970e-05  Data: 0.406 (0.145)\n",
            "Train: 4 [ 200/225 ( 89%)]  Loss: 1.872 (1.56)  Time: 0.570s,   14.04/s  (0.730s,   10.95/s)  LR: 4.970e-05  Data: 0.056 (0.136)\n",
            "Train: 4 [ 224/225 (100%)]  Loss: 1.283 (1.56)  Time: 0.359s,   22.30/s  (0.710s,   11.27/s)  LR: 4.970e-05  Data: 0.000 (0.131)\n",
            "Test: [   0/224]  Time: 1.096 (1.096)  Loss:  0.2246 (0.2246)  Acc@1: 100.0000 (100.0000)  Acc@5: 100.0000 (100.0000)\n",
            "Test: [  50/224]  Time: 0.079 (0.158)  Loss:  0.1233 (0.3451)  Acc@1: 100.0000 (95.0980)  Acc@5: 100.0000 (99.5098)\n",
            "Test: [ 100/224]  Time: 0.090 (0.152)  Loss:  0.3381 (0.3540)  Acc@1: 100.0000 (94.3069)  Acc@5: 100.0000 (99.7525)\n",
            "Test: [ 150/224]  Time: 0.084 (0.149)  Loss:  0.4419 (0.3833)  Acc@1: 100.0000 (93.7086)  Acc@5: 100.0000 (99.8344)\n",
            "Test: [ 200/224]  Time: 0.103 (0.149)  Loss:  0.2932 (0.4208)  Acc@1: 100.0000 (93.5323)  Acc@5: 100.0000 (99.8756)\n",
            "Test: [ 224/224]  Time: 0.063 (0.146)  Loss:  0.3584 (0.4350)  Acc@1: 100.0000 (93.0000)  Acc@5: 100.0000 (99.7778)\n",
            "Current checkpoints:\n",
            " ('drive/MyDrive/UNC/S2022P/output/20220818-180344-convnext_large_384_in22ft1k-600/checkpoint-4.pth.tar', 93.0)\n",
            " ('drive/MyDrive/UNC/S2022P/output/20220818-180344-convnext_large_384_in22ft1k-600/checkpoint-3.pth.tar', 84.44444444444444)\n",
            " ('drive/MyDrive/UNC/S2022P/output/20220818-180344-convnext_large_384_in22ft1k-600/checkpoint-2.pth.tar', 72.44444444444444)\n",
            " ('drive/MyDrive/UNC/S2022P/output/20220818-180344-convnext_large_384_in22ft1k-600/checkpoint-1.pth.tar', 48.666666666666664)\n",
            " ('drive/MyDrive/UNC/S2022P/output/20220818-180344-convnext_large_384_in22ft1k-600/checkpoint-0.pth.tar', 27.555555555555557)\n",
            "\n",
            "Train: 5 [   0/225 (  0%)]  Loss: 1.106 (1.11)  Time: 2.472s,    3.24/s  (2.472s,    3.24/s)  LR: 4.953e-05  Data: 1.788 (1.788)\n",
            "Train: 5 [  50/225 ( 22%)]  Loss: 1.329 (1.34)  Time: 0.640s,   12.51/s  (0.981s,    8.16/s)  LR: 4.953e-05  Data: 0.124 (0.132)\n",
            "Train: 5 [ 100/225 ( 45%)]  Loss: 2.380 (1.39)  Time: 0.646s,   12.38/s  (0.831s,    9.63/s)  LR: 4.953e-05  Data: 0.009 (0.128)\n",
            "Train: 5 [ 150/225 ( 67%)]  Loss: 1.602 (1.41)  Time: 0.483s,   16.56/s  (0.757s,   10.56/s)  LR: 4.953e-05  Data: 0.016 (0.122)\n",
            "Train: 5 [ 200/225 ( 89%)]  Loss: 1.134 (1.40)  Time: 0.485s,   16.51/s  (0.714s,   11.21/s)  LR: 4.953e-05  Data: 0.015 (0.119)\n",
            "Train: 5 [ 224/225 (100%)]  Loss: 1.606 (1.40)  Time: 0.358s,   22.37/s  (0.692s,   11.56/s)  LR: 4.953e-05  Data: 0.000 (0.114)\n",
            "Test: [   0/224]  Time: 1.135 (1.135)  Loss:  0.0710 (0.0710)  Acc@1: 100.0000 (100.0000)  Acc@5: 100.0000 (100.0000)\n",
            "Test: [  50/224]  Time: 0.249 (0.156)  Loss:  0.0775 (0.2836)  Acc@1: 100.0000 (95.5882)  Acc@5: 100.0000 (100.0000)\n",
            "Test: [ 100/224]  Time: 0.088 (0.152)  Loss:  0.1370 (0.2667)  Acc@1: 100.0000 (96.2871)  Acc@5: 100.0000 (100.0000)\n",
            "Test: [ 150/224]  Time: 0.238 (0.149)  Loss:  0.1108 (0.2808)  Acc@1: 100.0000 (96.8543)  Acc@5: 100.0000 (99.8344)\n",
            "Test: [ 200/224]  Time: 0.124 (0.148)  Loss:  0.1837 (0.3317)  Acc@1: 100.0000 (94.9005)  Acc@5: 100.0000 (99.8756)\n",
            "Test: [ 224/224]  Time: 0.063 (0.156)  Loss:  0.2693 (0.3404)  Acc@1: 100.0000 (94.3333)  Acc@5: 100.0000 (99.8889)\n",
            "Current checkpoints:\n",
            " ('drive/MyDrive/UNC/S2022P/output/20220818-180344-convnext_large_384_in22ft1k-600/checkpoint-5.pth.tar', 94.33333333333333)\n",
            " ('drive/MyDrive/UNC/S2022P/output/20220818-180344-convnext_large_384_in22ft1k-600/checkpoint-4.pth.tar', 93.0)\n",
            " ('drive/MyDrive/UNC/S2022P/output/20220818-180344-convnext_large_384_in22ft1k-600/checkpoint-3.pth.tar', 84.44444444444444)\n",
            " ('drive/MyDrive/UNC/S2022P/output/20220818-180344-convnext_large_384_in22ft1k-600/checkpoint-2.pth.tar', 72.44444444444444)\n",
            " ('drive/MyDrive/UNC/S2022P/output/20220818-180344-convnext_large_384_in22ft1k-600/checkpoint-1.pth.tar', 48.666666666666664)\n",
            " ('drive/MyDrive/UNC/S2022P/output/20220818-180344-convnext_large_384_in22ft1k-600/checkpoint-0.pth.tar', 27.555555555555557)\n",
            "\n",
            "Train: 6 [   0/225 (  0%)]  Loss: 0.9493 (0.949)  Time: 2.783s,    2.87/s  (2.783s,    2.87/s)  LR: 4.932e-05  Data: 2.132 (2.132)\n",
            "Train: 6 [  50/225 ( 22%)]  Loss: 1.072 (1.30)  Time: 0.520s,   15.38/s  (1.022s,    7.83/s)  LR: 4.932e-05  Data: 0.021 (0.223)\n",
            "Train: 6 [ 100/225 ( 45%)]  Loss: 1.590 (1.31)  Time: 0.582s,   13.75/s  (0.848s,    9.43/s)  LR: 4.932e-05  Data: 0.020 (0.156)\n",
            "Train: 6 [ 150/225 ( 67%)]  Loss: 1.657 (1.33)  Time: 0.528s,   15.14/s  (0.760s,   10.52/s)  LR: 4.932e-05  Data: 0.013 (0.133)\n",
            "Train: 6 [ 200/225 ( 89%)]  Loss: 1.187 (1.34)  Time: 0.444s,   18.01/s  (0.713s,   11.22/s)  LR: 4.932e-05  Data: 0.012 (0.123)\n",
            "Train: 6 [ 224/225 (100%)]  Loss: 1.349 (1.33)  Time: 0.356s,   22.46/s  (0.691s,   11.57/s)  LR: 4.932e-05  Data: 0.000 (0.118)\n",
            "Test: [   0/224]  Time: 1.059 (1.059)  Loss:  0.0418 (0.0418)  Acc@1: 100.0000 (100.0000)  Acc@5: 100.0000 (100.0000)\n",
            "Test: [  50/224]  Time: 0.072 (0.158)  Loss:  0.2515 (0.2184)  Acc@1: 100.0000 (97.0588)  Acc@5: 100.0000 (100.0000)\n",
            "Test: [ 100/224]  Time: 0.085 (0.152)  Loss:  0.0664 (0.2068)  Acc@1: 100.0000 (98.0198)  Acc@5: 100.0000 (100.0000)\n",
            "Test: [ 150/224]  Time: 0.080 (0.150)  Loss:  0.0961 (0.2240)  Acc@1: 100.0000 (97.5166)  Acc@5: 100.0000 (100.0000)\n",
            "Test: [ 200/224]  Time: 0.088 (0.147)  Loss:  0.1011 (0.2490)  Acc@1: 100.0000 (97.3881)  Acc@5: 100.0000 (100.0000)\n",
            "Test: [ 224/224]  Time: 0.063 (0.145)  Loss:  0.3928 (0.2441)  Acc@1: 75.0000 (97.2222)  Acc@5: 100.0000 (100.0000)\n",
            "Current checkpoints:\n",
            " ('drive/MyDrive/UNC/S2022P/output/20220818-180344-convnext_large_384_in22ft1k-600/checkpoint-6.pth.tar', 97.22222222222223)\n",
            " ('drive/MyDrive/UNC/S2022P/output/20220818-180344-convnext_large_384_in22ft1k-600/checkpoint-5.pth.tar', 94.33333333333333)\n",
            " ('drive/MyDrive/UNC/S2022P/output/20220818-180344-convnext_large_384_in22ft1k-600/checkpoint-4.pth.tar', 93.0)\n",
            " ('drive/MyDrive/UNC/S2022P/output/20220818-180344-convnext_large_384_in22ft1k-600/checkpoint-3.pth.tar', 84.44444444444444)\n",
            " ('drive/MyDrive/UNC/S2022P/output/20220818-180344-convnext_large_384_in22ft1k-600/checkpoint-2.pth.tar', 72.44444444444444)\n",
            " ('drive/MyDrive/UNC/S2022P/output/20220818-180344-convnext_large_384_in22ft1k-600/checkpoint-1.pth.tar', 48.666666666666664)\n",
            " ('drive/MyDrive/UNC/S2022P/output/20220818-180344-convnext_large_384_in22ft1k-600/checkpoint-0.pth.tar', 27.555555555555557)\n",
            "\n",
            "Train: 7 [   0/225 (  0%)]  Loss: 0.9724 (0.972)  Time: 2.866s,    2.79/s  (2.866s,    2.79/s)  LR: 4.908e-05  Data: 2.178 (2.178)\n",
            "Train: 7 [  50/225 ( 22%)]  Loss: 1.773 (1.18)  Time: 0.615s,   13.01/s  (1.022s,    7.83/s)  LR: 4.908e-05  Data: 0.022 (0.183)\n",
            "Train: 7 [ 100/225 ( 45%)]  Loss: 0.8471 (1.17)  Time: 1.326s,    6.03/s  (0.876s,    9.13/s)  LR: 4.908e-05  Data: 0.744 (0.147)\n",
            "Train: 7 [ 150/225 ( 67%)]  Loss: 1.248 (1.16)  Time: 0.490s,   16.31/s  (0.783s,   10.22/s)  LR: 4.908e-05  Data: 0.009 (0.137)\n"
          ]
        }
      ],
      "source": [
        "! python -u -m torch.distributed.launch --nproc_per_node=1 --nnodes=1 --node_rank=0 ./pytorch-image-models/train.py train --model convnext_large_384_in22ft1k --opt adabelief --lr 0.00005 --epochs 80 --aa augmix-m5-w4 --aug-splits 2 --jsd-loss --decay-epochs 3 --cooldown-epochs 0 --weight-decay 1e-4 --sched cosine -b 4 --input-size 3 600 600 --num-classes=60 --vflip 0.5 --hflip 0.5 --amp --pretrained --output drive/MyDrive/UNC/S2022P/output/ "
      ]
    },
    {
      "cell_type": "code",
      "execution_count": null,
      "metadata": {
        "id": "mMHrwfTNvpQI"
      },
      "outputs": [],
      "source": [
        ""
      ]
    }
  ],
  "metadata": {
    "accelerator": "GPU",
    "colab": {
      "background_execution": "on",
      "collapsed_sections": [],
      "name": "[FSUS] CNL-Q600G4",
      "provenance": [],
      "mount_file_id": "1XqWA3EjFUHAauUeggOi-AyiNviKON74w",
      "authorship_tag": "ABX9TyPpLSpeV4AHi6PC4DkZ2Fch",
      "include_colab_link": true
    },
    "gpuClass": "standard",
    "kernelspec": {
      "display_name": "Python 3",
      "name": "python3"
    },
    "language_info": {
      "name": "python"
    }
  },
  "nbformat": 4,
  "nbformat_minor": 0
}